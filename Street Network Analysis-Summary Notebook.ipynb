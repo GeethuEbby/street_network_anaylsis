{
 "cells": [
  {
   "cell_type": "markdown",
   "id": "d6aabdad",
   "metadata": {},
   "source": [
    "OSMnx is a Python package to retrieve, model, analyze, and visualize street networks from OpenStreetMap. Users can download and model walkable, drivable, or bikeable urban networks with a single line of Python code, and then easily analyze and visualize them. \n",
    "\n",
    "\n",
    "\n",
    "\n",
    "\n",
    "Boeing, G. 2017. OSMnx: New Methods for Acquiring, Constructing, Analyzing, and Visualizing Complex Street Networks. Computers, Environment and Urban Systems 65, 126-139. doi:10.1016/j.compenvurbsys.2017.05.004"
   ]
  },
  {
   "cell_type": "code",
   "execution_count": 1,
   "id": "5225568e",
   "metadata": {},
   "outputs": [],
   "source": [
    "import geopandas as gpd\n",
    "import pandas as pd\n",
    "import matplotlib.pyplot as plt\n",
    "from shapely.geometry import Point\n",
    "import osmnx as ox\n",
    "import networkx as nx\n",
    "import numpy as np\n",
    "from matplotlib import *\n",
    "from IPython.display import Image\n",
    "import folium"
   ]
  },
  {
   "cell_type": "markdown",
   "id": "6af98476",
   "metadata": {},
   "source": [
    "### OSM street network"
   ]
  },
  {
   "cell_type": "code",
   "execution_count": null,
   "id": "f8c5f7cf",
   "metadata": {},
   "outputs": [],
   "source": [
    "# Specify the name that is used to seach for the data\n",
    "#place = \"Helsinki, Finland\"\n",
    "#place = \"Toronto, Canada\"\n",
    "place = \"Varberg, Sweden\"\n",
    "\n",
    "# Fetch OSM street network from the location and plot in Folium map\n",
    "G = ox.graph_from_place(place, network_type=\"all\")\n",
    "# Convert graph to node and edge GeoPandas GeoDataFrames\n",
    "gdf_nodes, gdf_edges = ox.graph_to_gdfs(G)\n",
    "edges= ox.graph_to_gdfs(G, edges=True, nodes=False)\n",
    "m = ox.plot_graph_folium(G, popup_attribute=\"name\", weight=2, color=\"#808080\")\n"
   ]
  },
  {
   "cell_type": "code",
   "execution_count": 3,
   "id": "efbec4da",
   "metadata": {},
   "outputs": [],
   "source": [
    "G = ox.graph_from_place(place, network_type=\"all\")"
   ]
  },
  {
   "cell_type": "markdown",
   "id": "6bcba56b",
   "metadata": {},
   "source": [
    "### Calculate basic street network measures (topological and geometric)"
   ]
  },
  {
   "cell_type": "markdown",
   "id": "bb475a10",
   "metadata": {},
   "source": [
    "#### Basic street network stats"
   ]
  },
  {
   "cell_type": "code",
   "execution_count": 4,
   "id": "156e7316",
   "metadata": {},
   "outputs": [
    {
     "data": {
      "text/html": [
       "<div>\n",
       "<style scoped>\n",
       "    .dataframe tbody tr th:only-of-type {\n",
       "        vertical-align: middle;\n",
       "    }\n",
       "\n",
       "    .dataframe tbody tr th {\n",
       "        vertical-align: top;\n",
       "    }\n",
       "\n",
       "    .dataframe thead th {\n",
       "        text-align: right;\n",
       "    }\n",
       "</style>\n",
       "<table border=\"1\" class=\"dataframe\">\n",
       "  <thead>\n",
       "    <tr style=\"text-align: right;\">\n",
       "      <th></th>\n",
       "      <th>value</th>\n",
       "    </tr>\n",
       "  </thead>\n",
       "  <tbody>\n",
       "    <tr>\n",
       "      <th>n</th>\n",
       "      <td>19197.000</td>\n",
       "    </tr>\n",
       "    <tr>\n",
       "      <th>m</th>\n",
       "      <td>49282.000</td>\n",
       "    </tr>\n",
       "    <tr>\n",
       "      <th>k_avg</th>\n",
       "      <td>5.134</td>\n",
       "    </tr>\n",
       "    <tr>\n",
       "      <th>edge_length_total</th>\n",
       "      <td>6505427.640</td>\n",
       "    </tr>\n",
       "    <tr>\n",
       "      <th>edge_length_avg</th>\n",
       "      <td>132.004</td>\n",
       "    </tr>\n",
       "    <tr>\n",
       "      <th>streets_per_node_avg</th>\n",
       "      <td>2.640</td>\n",
       "    </tr>\n",
       "    <tr>\n",
       "      <th>intersection_count</th>\n",
       "      <td>14678.000</td>\n",
       "    </tr>\n",
       "    <tr>\n",
       "      <th>street_length_total</th>\n",
       "      <td>3324541.291</td>\n",
       "    </tr>\n",
       "    <tr>\n",
       "      <th>street_segment_count</th>\n",
       "      <td>25306.000</td>\n",
       "    </tr>\n",
       "    <tr>\n",
       "      <th>street_length_avg</th>\n",
       "      <td>131.374</td>\n",
       "    </tr>\n",
       "    <tr>\n",
       "      <th>circuity_avg</th>\n",
       "      <td>1.096</td>\n",
       "    </tr>\n",
       "    <tr>\n",
       "      <th>self_loop_proportion</th>\n",
       "      <td>0.004</td>\n",
       "    </tr>\n",
       "    <tr>\n",
       "      <th>node_density_km</th>\n",
       "      <td>17.277</td>\n",
       "    </tr>\n",
       "    <tr>\n",
       "      <th>intersection_density_km</th>\n",
       "      <td>13.210</td>\n",
       "    </tr>\n",
       "    <tr>\n",
       "      <th>edge_density_km</th>\n",
       "      <td>5854.912</td>\n",
       "    </tr>\n",
       "    <tr>\n",
       "      <th>street_density_km</th>\n",
       "      <td>2992.101</td>\n",
       "    </tr>\n",
       "    <tr>\n",
       "      <th>0way_int_count</th>\n",
       "      <td>0.000</td>\n",
       "    </tr>\n",
       "    <tr>\n",
       "      <th>1way_int_count</th>\n",
       "      <td>4519.000</td>\n",
       "    </tr>\n",
       "    <tr>\n",
       "      <th>2way_int_count</th>\n",
       "      <td>16.000</td>\n",
       "    </tr>\n",
       "    <tr>\n",
       "      <th>3way_int_count</th>\n",
       "      <td>12547.000</td>\n",
       "    </tr>\n",
       "    <tr>\n",
       "      <th>4way_int_count</th>\n",
       "      <td>2088.000</td>\n",
       "    </tr>\n",
       "    <tr>\n",
       "      <th>5way_int_count</th>\n",
       "      <td>24.000</td>\n",
       "    </tr>\n",
       "    <tr>\n",
       "      <th>6way_int_count</th>\n",
       "      <td>3.000</td>\n",
       "    </tr>\n",
       "    <tr>\n",
       "      <th>0way_int_prop</th>\n",
       "      <td>0.000</td>\n",
       "    </tr>\n",
       "    <tr>\n",
       "      <th>1way_int_prop</th>\n",
       "      <td>0.235</td>\n",
       "    </tr>\n",
       "    <tr>\n",
       "      <th>2way_int_prop</th>\n",
       "      <td>0.001</td>\n",
       "    </tr>\n",
       "    <tr>\n",
       "      <th>3way_int_prop</th>\n",
       "      <td>0.654</td>\n",
       "    </tr>\n",
       "    <tr>\n",
       "      <th>4way_int_prop</th>\n",
       "      <td>0.109</td>\n",
       "    </tr>\n",
       "    <tr>\n",
       "      <th>5way_int_prop</th>\n",
       "      <td>0.001</td>\n",
       "    </tr>\n",
       "    <tr>\n",
       "      <th>6way_int_prop</th>\n",
       "      <td>0.000</td>\n",
       "    </tr>\n",
       "  </tbody>\n",
       "</table>\n",
       "</div>"
      ],
      "text/plain": [
       "                               value\n",
       "n                          19197.000\n",
       "m                          49282.000\n",
       "k_avg                          5.134\n",
       "edge_length_total        6505427.640\n",
       "edge_length_avg              132.004\n",
       "streets_per_node_avg           2.640\n",
       "intersection_count         14678.000\n",
       "street_length_total      3324541.291\n",
       "street_segment_count       25306.000\n",
       "street_length_avg            131.374\n",
       "circuity_avg                   1.096\n",
       "self_loop_proportion           0.004\n",
       "node_density_km               17.277\n",
       "intersection_density_km       13.210\n",
       "edge_density_km             5854.912\n",
       "street_density_km           2992.101\n",
       "0way_int_count                 0.000\n",
       "1way_int_count              4519.000\n",
       "2way_int_count                16.000\n",
       "3way_int_count             12547.000\n",
       "4way_int_count              2088.000\n",
       "5way_int_count                24.000\n",
       "6way_int_count                 3.000\n",
       "0way_int_prop                  0.000\n",
       "1way_int_prop                  0.235\n",
       "2way_int_prop                  0.001\n",
       "3way_int_prop                  0.654\n",
       "4way_int_prop                  0.109\n",
       "5way_int_prop                  0.001\n",
       "6way_int_prop                  0.000"
      ]
     },
     "execution_count": 4,
     "metadata": {},
     "output_type": "execute_result"
    }
   ],
   "source": [
    "# Network cover in square meters\n",
    "G_proj = ox.project_graph(G)\n",
    "nodes_proj = ox.graph_to_gdfs(G_proj, edges=False)\n",
    "graph_area_m = nodes_proj.unary_union.convex_hull.area\n",
    "# statistics\n",
    "stats = ox.basic_stats(G, area=graph_area_m)\n",
    "for k, count in stats[\"streets_per_node_counts\"].items():\n",
    "    stats[\"{}way_int_count\".format(k)] = count\n",
    "for k, proportion in stats[\"streets_per_node_proportions\"].items():\n",
    "    stats[\"{}way_int_prop\".format(k)] = proportion\n",
    "\n",
    "# delete the no longer needed dict elements\n",
    "del stats[\"streets_per_node_counts\"]\n",
    "del stats[\"streets_per_node_proportions\"]\n",
    "\n",
    "# load as a pandas dataframe\n",
    "pd.DataFrame(pd.Series(stats, name=\"value\")).round(3)"
   ]
  },
  {
   "cell_type": "markdown",
   "id": "d1722d90",
   "metadata": {},
   "source": [
    "* circuity_avg - Calculate average street circuity using edges of undirected graph.Circuity is the sum of edge lengths divided by the sum of straight-line distances between edge endpoints. Calculates straight-line distance as euclidean distance if projected or great-circle distance if unprojected.\n",
    "* clean_intersection_count - see clean_intersection_count function documentation\n",
    "* clean_intersection_density_km - clean_intersection_count per sq km\n",
    "* edge_density_km - edge_length_total per sq km\n",
    "* edge_length_avg - edge_length_total / m\n",
    "* edge_length_total -Graph’s total edge length.\n",
    "* intersection_count - Count the intersections in a graph.\n",
    "* intersection_density_km - intersection_count per sq km\n",
    "* k_avg - graph’s average node degree (in-degree and out-degree)\n",
    "* m - count of edges in graph\n",
    "* n - count of nodes in graph\n",
    "* node_density_km - n per sq km\n",
    "* self_loop_proportion - see self_loop_proportion function documentation\n",
    "* street_density_km - street_length_total per sq km\n",
    "* street_length_avg - street_length_total / street_segment_count\n",
    "* street_length_total -  graph’s total street segment length.\n",
    "* street_segment_count - Count the street segments in a graph\n",
    "* streets_per_node_avg - Calculate graph’s average count of streets per node.\n",
    "* streets_per_node_counts - Calculate streets-per-node counts.\n",
    "* streets_per_node_proportions - Calculate streets-per-node proportions."
   ]
  },
  {
   "cell_type": "markdown",
   "id": "d0bbdcb0",
   "metadata": {},
   "source": [
    "stats documentation: https://osmnx.readthedocs.io/en/stable/osmnx.html#module-osmnx.stats"
   ]
  },
  {
   "cell_type": "markdown",
   "id": "b7ea5f08",
   "metadata": {},
   "source": [
    " #### Comparing Street density (street_length_total per sq km)"
   ]
  },
  {
   "cell_type": "code",
   "execution_count": 5,
   "id": "f882af24",
   "metadata": {},
   "outputs": [],
   "source": [
    "drv_grph = ox.graph_from_place(place, network_type=\"drive\")\n",
    "# calculate basic and extended network stats, merge them together, and display\n",
    "G_proj = ox.project_graph(drv_grph)\n",
    "nodes_proj = ox.graph_to_gdfs(G_proj, edges=False)\n",
    "graph_area_m = nodes_proj.unary_union.convex_hull.area\n",
    "stats = ox.basic_stats(drv_grph, area=graph_area_m)\n",
    "drive_street_len = stats[\"street_density_km\"]"
   ]
  },
  {
   "cell_type": "code",
   "execution_count": 6,
   "id": "311d47c2",
   "metadata": {},
   "outputs": [],
   "source": [
    "bike_grph = ox.graph_from_place(place, network_type=\"bike\")\n",
    "# calculate basic and extended network stats, merge them together, and display\n",
    "G_proj = ox.project_graph(bike_grph)\n",
    "nodes_proj = ox.graph_to_gdfs(G_proj, edges=False)\n",
    "graph_area_m = nodes_proj.unary_union.convex_hull.area\n",
    "stats = ox.basic_stats(bike_grph, area=graph_area_m)\n",
    "bike_street_len = stats[\"street_density_km\"]"
   ]
  },
  {
   "cell_type": "code",
   "execution_count": 7,
   "id": "fef12500",
   "metadata": {},
   "outputs": [],
   "source": [
    "walk_grph = ox.graph_from_place(place, network_type=\"walk\")\n",
    "# calculate basic and extended network stats, merge them together, and display\n",
    "# What sized area does our network cover in square meters\n",
    "G_proj = ox.project_graph(walk_grph)\n",
    "nodes_proj = ox.graph_to_gdfs(G_proj, edges=False)\n",
    "graph_area_m = nodes_proj.unary_union.convex_hull.area\n",
    "stats = ox.basic_stats(bike_grph, area=graph_area_m)\n",
    "walkable_street_len = stats[\"street_density_km\"]"
   ]
  },
  {
   "cell_type": "code",
   "execution_count": 8,
   "id": "25cd3fb2",
   "metadata": {},
   "outputs": [
    {
     "data": {
      "image/png": "[encoded data removed]",
      "text/plain": [
       "<Figure size 1080x504 with 1 Axes>"
      ]
     },
     "metadata": {
      "needs_background": "light"
     },
     "output_type": "display_data"
    }
   ],
   "source": [
    "bike_only_len = bike_street_len - drive_street_len\n",
    "walk_only_len = walkable_street_len - drive_street_len\n",
    "drive_only_len = walkable_street_len - (walk_only_len )\n",
    "\n",
    "# creating the dataset\n",
    "data = {'Cycling + Driving':bike_street_len, \n",
    "        'Walking + Driving':walkable_street_len,\n",
    "        'Drivable':drive_street_len, \n",
    "        'Driving Only': drive_only_len, \n",
    "        'Cycling not Driving': bike_only_len,\n",
    "       'Walking not Driving': walk_only_len,\n",
    "       }\n",
    "courses = list(data.keys())\n",
    "values = list(data.values())\n",
    "  \n",
    "fig = plt.figure(figsize = (15, 7))\n",
    " \n",
    "# creating the bar plot\n",
    "plt.bar(courses, values,\n",
    "        width = 0.5)\n",
    " \n",
    "plt.xlabel(\"Path\")\n",
    "plt.ylabel(\"street_density_km\")\n",
    "plt.show()"
   ]
  },
  {
   "cell_type": "markdown",
   "id": "c478882f",
   "metadata": {},
   "source": [
    "Street density for Cycling and Walking paths are quite high than Driving paths. Also, paths that are accessible by Walking or Cycling and not be driving are also visualized"
   ]
  },
  {
   "cell_type": "markdown",
   "id": "a1ec1b96",
   "metadata": {},
   "source": [
    "### Plotting Map Features"
   ]
  },
  {
   "cell_type": "markdown",
   "id": "52b596c4",
   "metadata": {},
   "source": [
    "More details about the Map Features - https://wiki.openstreetmap.org/wiki/Map_features"
   ]
  },
  {
   "cell_type": "markdown",
   "id": "24fb5413",
   "metadata": {},
   "source": [
    "#### Hospitals"
   ]
  },
  {
   "cell_type": "code",
   "execution_count": 9,
   "id": "550952c1",
   "metadata": {
    "scrolled": false
   },
   "outputs": [
    {
     "name": "stderr",
     "output_type": "stream",
     "text": [
      "C:\\Users\\geeth\\AppData\\Local\\Temp/ipykernel_25892/3619979740.py:9: UserWarning: Geometry is in a geographic CRS. Results from 'centroid' are likely incorrect. Use 'GeoSeries.to_crs()' to re-project geometries to a projected CRS before this operation.\n",
      "\n",
      "  centroids = hospital.centroid\n"
     ]
    }
   ],
   "source": [
    "# List key-value pairs for tags such as hospital\n",
    "tags = {'amenity': 'hospital'}\n",
    "# Retrieve hospital\n",
    "hospital = ox.geometries_from_place(place, tags)\n",
    "# getting centroids from hospital to avoid polygon geometric objects\n",
    "hospital['geometry'] = [geom.centroid for geom in hospital['geometry']]\n",
    "# reset index\n",
    "hospital = hospital.reset_index(drop=True)\n",
    "centroids = hospital.centroid\n",
    "lons = list(centroids.x)\n",
    "lats = list(centroids.y)\n",
    "name = list(hospital.name)\n",
    "building_coords = [[lats[i],lons[i],name[i]] for i in range(len(lons))]\n",
    "\n",
    "dictionary = dict()\n",
    "\n",
    "for i in range(len(building_coords)):\n",
    "     node_id = i+1\n",
    "     dictionary[node_id] = {\n",
    "    'x': lons[i],\n",
    "    'y': lats[i],\n",
    "    'name':name[i]\n",
    "     }\n",
    "\n",
    "tmp_list = []\n",
    "for item_key, item_value in dictionary.items() :\n",
    "  tmp_list.append({\n",
    "    'geometry' : Point(item_value['x'], item_value['y']),\n",
    "    'osmid': item_key,\n",
    "    'y' : item_value['y'],\n",
    "    'x' : item_value['x'],\n",
    "    'name':item_value['name']\n",
    "   })\n",
    "my_nodes = gpd.GeoDataFrame(tmp_list)\n",
    "\n",
    "# Plot the building nodes\n",
    "hospital_nodes = my_nodes"
   ]
  },
  {
   "cell_type": "markdown",
   "id": "dd5c2525",
   "metadata": {},
   "source": [
    "#### Bus Stations"
   ]
  },
  {
   "cell_type": "code",
   "execution_count": 10,
   "id": "42135e75",
   "metadata": {},
   "outputs": [
    {
     "name": "stderr",
     "output_type": "stream",
     "text": [
      "C:\\Users\\geeth\\AppData\\Local\\Temp/ipykernel_25892/3327883629.py:9: UserWarning: Geometry is in a geographic CRS. Results from 'centroid' are likely incorrect. Use 'GeoSeries.to_crs()' to re-project geometries to a projected CRS before this operation.\n",
      "\n",
      "  centroids = bus_stop.centroid\n"
     ]
    }
   ],
   "source": [
    "# List key-value pairs for tags such as restaurants\n",
    "tags = {'public_transport' : 'stop_position'}\n",
    "# Retrieve restaurants\n",
    "bus_stop = ox.geometries_from_place(place, tags)\n",
    "# getting centroids from restaurants to avoid polygon geometric objects\n",
    "bus_stop['geometry'] = [geom.centroid for geom in bus_stop['geometry']]\n",
    "# reset index\n",
    "bus_stop = bus_stop.reset_index(drop=True)\n",
    "centroids = bus_stop.centroid\n",
    "lons = list(centroids.x)\n",
    "lats = list(centroids.y)\n",
    "name = list(bus_stop.name)\n",
    "building_coords = [[lats[i],lons[i],name[i]] for i in range(len(lons))]\n",
    "\n",
    "dictionary = dict()\n",
    "\n",
    "for i in range(len(building_coords)):\n",
    "     node_id = i+1\n",
    "     dictionary[node_id] = {\n",
    "    'x': lons[i],\n",
    "    'y': lats[i],\n",
    "    'name':name[i]\n",
    "     }\n",
    "\n",
    "tmp_list = []\n",
    "for item_key, item_value in dictionary.items() :\n",
    "  tmp_list.append({\n",
    "    'geometry' : Point(item_value['x'], item_value['y']),\n",
    "    'osmid': item_key,\n",
    "    'y' : item_value['y'],\n",
    "    'x' : item_value['x'],\n",
    "    'name':item_value['name']\n",
    "   })\n",
    "my_nodes = gpd.GeoDataFrame(tmp_list)\n",
    "\n",
    "#Plot the building nodes\n",
    "bus_nodes = my_nodes\n"
   ]
  },
  {
   "cell_type": "markdown",
   "id": "88e5e210",
   "metadata": {},
   "source": [
    "#### Parking Spots"
   ]
  },
  {
   "cell_type": "code",
   "execution_count": 11,
   "id": "59df0480",
   "metadata": {},
   "outputs": [
    {
     "name": "stderr",
     "output_type": "stream",
     "text": [
      "C:\\Users\\geeth\\AppData\\Local\\Temp/ipykernel_25892/575059247.py:9: UserWarning: Geometry is in a geographic CRS. Results from 'centroid' are likely incorrect. Use 'GeoSeries.to_crs()' to re-project geometries to a projected CRS before this operation.\n",
      "\n",
      "  centroids = parking.centroid\n"
     ]
    }
   ],
   "source": [
    "# List key-value pairs for tags such as restaurants\n",
    "tags = {'amenity' : 'parking'}\n",
    "# Retrieve restaurants\n",
    "parking = ox.geometries_from_place(place, tags)\n",
    "# getting centroids from restaurants to avoid polygon geometric objects\n",
    "parking['geometry'] = [geom.centroid for geom in parking['geometry']]\n",
    "# reset index\n",
    "parking = parking.reset_index(drop=True)\n",
    "centroids = parking.centroid\n",
    "lons = list(centroids.x)\n",
    "lats = list(centroids.y)\n",
    "name = list(parking.name)\n",
    "building_coords = [[lats[i],lons[i],name[i]] for i in range(len(lons))]\n",
    "\n",
    "dictionary = dict()\n",
    "\n",
    "for i in range(len(building_coords)):\n",
    "     node_id = i+1\n",
    "     dictionary[node_id] = {\n",
    "    'x': lons[i],\n",
    "    'y': lats[i],\n",
    "    'name':name[i]\n",
    "     }\n",
    "\n",
    "tmp_list = []\n",
    "for item_key, item_value in dictionary.items() :\n",
    "  tmp_list.append({\n",
    "    'geometry' : Point(item_value['x'], item_value['y']),\n",
    "    'osmid': item_key,\n",
    "    'y' : item_value['y'],\n",
    "    'x' : item_value['x'],\n",
    "    'name':item_value['name']\n",
    "   })\n",
    "my_nodes = gpd.GeoDataFrame(tmp_list)\n",
    "\n",
    "# Plot the building nodes\n",
    "park_nodes = my_nodes\n"
   ]
  },
  {
   "cell_type": "markdown",
   "id": "acc69b00",
   "metadata": {},
   "source": [
    "#### Charging Stations"
   ]
  },
  {
   "cell_type": "code",
   "execution_count": 12,
   "id": "f4f380e1",
   "metadata": {},
   "outputs": [
    {
     "name": "stderr",
     "output_type": "stream",
     "text": [
      "C:\\Users\\geeth\\AppData\\Local\\Temp/ipykernel_25892/3160271649.py:9: UserWarning: Geometry is in a geographic CRS. Results from 'centroid' are likely incorrect. Use 'GeoSeries.to_crs()' to re-project geometries to a projected CRS before this operation.\n",
      "\n",
      "  centroids = charging_station.centroid\n"
     ]
    }
   ],
   "source": [
    "# List key-value pairs for tags such as restaurants\n",
    "tags = {'amenity' : 'charging_station'}\n",
    "# Retrieve restaurants\n",
    "charging_station = ox.geometries_from_place(place, tags)\n",
    "# getting centroids from restaurants to avoid polygon geometric objects\n",
    "charging_station['geometry'] = [geom.centroid for geom in charging_station['geometry']]\n",
    "# reset index\n",
    "charging_station = charging_station.reset_index(drop=True)\n",
    "centroids = charging_station.centroid\n",
    "lons = list(centroids.x)\n",
    "lats = list(centroids.y)\n",
    "name = list(charging_station.name)\n",
    "building_coords = [[lats[i],lons[i],name[i]] for i in range(len(lons))]\n",
    "dictionary = dict()\n",
    "\n",
    "for i in range(len(building_coords)):\n",
    "     node_id = i+1\n",
    "     dictionary[node_id] = {\n",
    "    'x': lons[i],\n",
    "    'y': lats[i],\n",
    "    'name':name[i]\n",
    "     }\n",
    "\n",
    "tmp_list = []\n",
    "for item_key, item_value in dictionary.items() :\n",
    "  tmp_list.append({\n",
    "    'geometry' : Point(item_value['x'], item_value['y']),\n",
    "    'osmid': item_key,\n",
    "    'y' : item_value['y'],\n",
    "    'x' : item_value['x'],\n",
    "    'name':item_value['name']\n",
    "   })\n",
    "my_nodes = gpd.GeoDataFrame(tmp_list)\n",
    "\n",
    "# Plot the building nodes\n",
    "charging_nodes = my_nodes\n"
   ]
  },
  {
   "cell_type": "code",
   "execution_count": 20,
   "id": "5aa3d1e4",
   "metadata": {},
   "outputs": [],
   "source": [
    "# Plot the street network with folium\n",
    "G = ox.graph_from_place(place, network_type=\"drive\")\n",
    "m = ox.plot_graph_folium(G, popup_attribute=\"name\", weight=2, color=\"#808080\")\n",
    "hospital_group = folium.FeatureGroup(name=\"Hospital\").add_to(m)\n",
    "bus_group = folium.FeatureGroup(name=\"Bus Station\").add_to(m)\n",
    "parking_group = folium.FeatureGroup(name=\"Parking Space\").add_to(m)\n",
    "charging_group = folium.FeatureGroup(name=\"Charging Station\").add_to(m)\n",
    "#Hospital\n",
    "for i in range(hospital_nodes.shape[0]):\n",
    "  location = [hospital_nodes.y.iloc[i], hospital_nodes.x.iloc[i],]\n",
    "  loc_name = hospital_nodes.name.iloc[i]\n",
    "  icon=folium.Icon(icon=\"fa-hospital-o\", prefix='fa')\n",
    "  hospital_group.add_child(folium.Marker(location=location, tooltip=loc_name, icon=icon).add_to(m))\n",
    "\n",
    "#Bus Station    \n",
    "for i in range(bus_nodes.shape[0]):\n",
    "  location = [bus_nodes.y.iloc[i], bus_nodes.x.iloc[i],]\n",
    "  loc_name = bus_nodes.name.iloc[i]\n",
    "  icon=folium.Icon(icon=\"fa-bus\", prefix='fa', color = \"cadetblue\")\n",
    "  bus_group.add_child(folium.Marker(location=location, tooltip=\"Bus station\", icon=icon).add_to(m))\n",
    "\n",
    "#Parking Space       \n",
    "for i in range(park_nodes.shape[0]):\n",
    "  location = [park_nodes.y.iloc[i], park_nodes.x.iloc[i],]\n",
    "  loc_name = park_nodes.name.iloc[i]\n",
    "  icon=folium.Icon(icon=\"fa-map-marker\", prefix='fa', color = 'green')\n",
    "  parking_group.add_child(folium.CircleMarker(location=location, tooltip=\"Parking Space\", radius=float(3),\n",
    "      color='green',\n",
    "      fill=True,\n",
    "      fill_color='green').add_to(m))\n",
    "    \n",
    "\n",
    "#Charging Station\n",
    "for i in range(charging_nodes.shape[0]):\n",
    "  location = [charging_nodes.y.iloc[i], charging_nodes.x.iloc[i],]\n",
    "  loc_name = charging_nodes.name.iloc[i]\n",
    "  icon=folium.Icon(icon=\"fa-plug\", prefix='fa', color = \"orange\")\n",
    "  charging_group.add_child(folium.Marker(location=location, tooltip=\"Charging Station\", icon=icon).add_to(m))\n",
    "#folium.LayerControl().add_to(m)    \n",
    "#display(m)\n"
   ]
  },
  {
   "cell_type": "markdown",
   "id": "063758f0",
   "metadata": {},
   "source": [
    "### Visualize street centrality - Driving Network"
   ]
  },
  {
   "cell_type": "markdown",
   "id": "1e1ad89a",
   "metadata": {},
   "source": [
    "#### 1. Degree Centrality"
   ]
  },
  {
   "cell_type": "markdown",
   "id": "5903ccf7",
   "metadata": {},
   "source": [
    "The degree of a node is simply defined as the number of connecting edges that it has. The node ‘33’ has 17 edges connecting it, to other nodes in the network. This results in a degree of 17. To determine the degree centrality, the degree of a node is divided by the number of other nodes in the network (n-1). To continue with computing the degree centrality for node ‘33’, 17 / (34–1) results in 0.5152. Remember from above, the number of nodes in the dataset is 34.\n",
    "\n",
    "An interpretation of this metric, Popularity."
   ]
  },
  {
   "cell_type": "code",
   "execution_count": 14,
   "id": "c180a3af",
   "metadata": {},
   "outputs": [],
   "source": [
    "degree_centrality = nx.degree_centrality(G)\n",
    "# calculate betweenness with a digraph of G (ie, no parallel edges)\n",
    "max_dc_node, max_dc = max(degree_centrality.items(), key=lambda x: x[1])\n",
    "# For plotting on Folium map\n",
    "for node in G.nodes:\n",
    "    if node == max_dc_node:\n",
    "        dc_nl = G.nodes[max_dc_node]['x']\n",
    "        dc_ny = G.nodes[max_dc_node]['y']"
   ]
  },
  {
   "cell_type": "markdown",
   "id": "93e7cf28",
   "metadata": {},
   "source": [
    "#### 2. Eigenvector Centrality"
   ]
  },
  {
   "cell_type": "markdown",
   "id": "ed5bbf4a",
   "metadata": {},
   "source": [
    "The adjacency matrix allows the connectivity of a node to be expressed in matrix form. So, for non-directed networks, the matrix is symmetric. Eigenvector centrality uses this matrix to compute its largest, most unique eigenvalues. The resulting eigenvector is used as the metric. The basic idea behind this metric revolves around a nodes neighbors and how connected they are. To score higher, a node needs to be well connected (high degree centrality) but it also needs to be connected to others that are well connected.\n",
    "\n",
    "An interpretation of this metric, Influence."
   ]
  },
  {
   "cell_type": "code",
   "execution_count": 15,
   "id": "b61270a4",
   "metadata": {},
   "outputs": [],
   "source": [
    "G2 = nx.DiGraph(G)\n",
    "eigen_centrality = nx.eigenvector_centrality(G2, max_iter=1000)\n",
    "#maximum  Eigenvector Centrality\n",
    "max_ec_node, max_ec = max(eigen_centrality.items(), key=lambda x: x[1])\n",
    "# For plotting on Folium map\n",
    "for node in G.nodes:\n",
    "    if node == max_ec_node:\n",
    "        ec_nl = G.nodes[max_ec_node]['x']\n",
    "        ec_ny = G.nodes[max_ec_node]['y']"
   ]
  },
  {
   "cell_type": "markdown",
   "id": "f09f9a51",
   "metadata": {},
   "source": [
    "#### 3. Closeness Centrality"
   ]
  },
  {
   "cell_type": "markdown",
   "id": "387c677a",
   "metadata": {},
   "source": [
    "An interpretation of this metric, Centralness."
   ]
  },
  {
   "cell_type": "code",
   "execution_count": 16,
   "id": "04417b16",
   "metadata": {},
   "outputs": [],
   "source": [
    "closeness_centrality = nx.closeness_centrality(G)\n",
    "\n",
    "max_cc_node, max_cc = max(closeness_centrality.items(), key=lambda x: x[1])\n",
    "\n",
    "for node in G.nodes:\n",
    "    if node == max_cc_node:\n",
    "        cc_nl = G.nodes[max_cc_node]['x']\n",
    "        cc_ny = G.nodes[max_cc_node]['y']"
   ]
  },
  {
   "cell_type": "markdown",
   "id": "d94cb1b9",
   "metadata": {},
   "source": [
    "#### 4. Betweenness centrality"
   ]
  },
  {
   "cell_type": "markdown",
   "id": "56f19c0f",
   "metadata": {},
   "source": [
    "\n",
    "An interpretation of this metric, Bridge."
   ]
  },
  {
   "cell_type": "code",
   "execution_count": 17,
   "id": "f225c537",
   "metadata": {},
   "outputs": [],
   "source": [
    "# calculate betweenness with a digraph of G (ie, no parallel edges). Considering k =1000 due to huge computation time\n",
    "bc = nx.betweenness_centrality(ox.get_digraph(G), weight=\"length\", k=1000)\n",
    "max_node, max_bc = max(bc.items(), key=lambda x: x[1])\n",
    "\n",
    "for node in G.nodes:\n",
    "    if node == max_node:\n",
    "        bc_nl = G.nodes[max_node]['x']\n",
    "        bc_ny = G.nodes[max_node]['y']"
   ]
  },
  {
   "cell_type": "markdown",
   "id": "5973cc87",
   "metadata": {},
   "source": [
    "The relative betweenness centrality of every node in the graph is visualized below"
   ]
  },
  {
   "cell_type": "code",
   "execution_count": 21,
   "id": "e8c776ff",
   "metadata": {
    "scrolled": true
   },
   "outputs": [
    {
     "data": {
      "text/plain": [
       "<folium.map.LayerControl at 0x17e8e16cdc0>"
      ]
     },
     "execution_count": 21,
     "metadata": {},
     "output_type": "execute_result"
    }
   ],
   "source": [
    "c_group = folium.FeatureGroup(name=\"Centrality Measures\").add_to(m)\n",
    "\n",
    "# Betweenness Centrality\n",
    "location = [bc_ny, bc_nl]\n",
    "icon=folium.Icon(icon=\"fa\", prefix='fa',color='red')\n",
    "c_group.add_child(folium.Marker(location=location, icon=icon, tooltip = \"Node with maximum Betweenness centrality\").add_to(m))\n",
    "\n",
    "# closeness Centrality\n",
    "location = [cc_ny, cc_nl]\n",
    "icon=folium.Icon(icon=\"fa\", prefix='fa',color='red')\n",
    "c_group.add_child(folium.Marker(location=location, icon=icon, tooltip = \"Node with maximum Closeness centrality\").add_to(m))\n",
    "\n",
    "\n",
    "# Eigenvector Centrality \n",
    "location = [ec_ny, ec_nl]\n",
    "icon=folium.Icon(icon=\"fa\", prefix='fa',color='red')\n",
    "c_group.add_child(folium.Marker(location=location, icon=icon, tooltip = \"Node with maximum Eigenvector centrality\").add_to(m))\n",
    "\n",
    "# Degree Centrality \n",
    "location = [dc_ny, dc_nl]\n",
    "icon=folium.Icon(icon=\"fa\", prefix='fa',color='red')\n",
    "c_group.add_child(folium.Marker(location=location, icon=icon, tooltip = \"Node with maximum Degree centrality\").add_to(m))\n",
    "\n",
    "folium.LayerControl().add_to(m)    \n",
    "#display(m)"
   ]
  }
 ],
 "metadata": {
  "kernelspec": {
   "display_name": "Python 3 (ipykernel)",
   "language": "python",
   "name": "python3"
  },
  "language_info": {
   "codemirror_mode": {
    "name": "ipython",
    "version": 3
   },
   "file_extension": ".py",
   "mimetype": "text/x-python",
   "name": "python",
   "nbconvert_exporter": "python",
   "pygments_lexer": "ipython3",
   "version": "3.9.7"
  }
 },
 "nbformat": 4,
 "nbformat_minor": 5
}
